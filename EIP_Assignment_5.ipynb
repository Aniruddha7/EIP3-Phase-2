{
  "nbformat": 4,
  "nbformat_minor": 0,
  "metadata": {
    "colab": {
      "name": "EIP Assignment 5.ipynb",
      "version": "0.3.2",
      "provenance": [],
      "collapsed_sections": [],
      "include_colab_link": true
    },
    "kernelspec": {
      "name": "python3",
      "display_name": "Python 3"
    },
    "accelerator": "GPU"
  },
  "cells": [
    {
      "cell_type": "markdown",
      "metadata": {
        "id": "view-in-github",
        "colab_type": "text"
      },
      "source": [
        "<a href=\"https://colab.research.google.com/github/Aniruddha7/EIP3-Phase-2/blob/master/EIP_Assignment_5.ipynb\" target=\"_parent\"><img src=\"https://colab.research.google.com/assets/colab-badge.svg\" alt=\"Open In Colab\"/></a>"
      ]
    },
    {
      "cell_type": "code",
      "metadata": {
        "id": "o6PFbTDK99yI",
        "colab_type": "code",
        "colab": {}
      },
      "source": [
        "!pip install -q keras\n",
        "import keras\n",
        "#import keras\n",
        "from keras.preprocessing.image import ImageDataGenerator  \n",
        "from keras.callbacks import ModelCheckpoint\n",
        "from keras.models import Model, Sequential\n",
        "from keras.layers import Dropout, Flatten, Input, Activation\n",
        "from keras.layers import Conv2D\n",
        "from keras.optimizers import adam\n",
        "from google.colab import drive\n",
        "from keras.callbacks import *\n",
        "import matplotlib\n",
        "from matplotlib import pyplot as plt\n",
        "import numpy as np\n",
        "import pandas as pd\n",
        "import tensorflow as tf\n",
        "from keras import backend as k\n",
        "config = tf.ConfigProto()\n",
        "config.gpu_options.allow_growth = True"
      ],
      "execution_count": 0,
      "outputs": []
    },
    {
      "cell_type": "code",
      "metadata": {
        "id": "xje-6ZKoA6VH",
        "colab_type": "code",
        "colab": {
          "base_uri": "https://localhost:8080/",
          "height": 474
        },
        "outputId": "7cd475a0-29cc-4572-cdc1-fb0dbbb517e7"
      },
      "source": [
        "!pip install -q keras\n",
        "!pip install image-classifiers\n",
        "!pip install git+https://github.com/qubvel/classification_models.git"
      ],
      "execution_count": 24,
      "outputs": [
        {
          "output_type": "stream",
          "text": [
            "Requirement already satisfied: image-classifiers in /usr/local/lib/python3.6/dist-packages (0.2.2)\n",
            "Requirement already satisfied: keras>=2.1.0 in /usr/local/lib/python3.6/dist-packages (from image-classifiers) (2.2.4)\n",
            "Requirement already satisfied: keras-preprocessing>=1.0.5 in /usr/local/lib/python3.6/dist-packages (from keras>=2.1.0->image-classifiers) (1.1.0)\n",
            "Requirement already satisfied: numpy>=1.9.1 in /usr/local/lib/python3.6/dist-packages (from keras>=2.1.0->image-classifiers) (1.16.4)\n",
            "Requirement already satisfied: pyyaml in /usr/local/lib/python3.6/dist-packages (from keras>=2.1.0->image-classifiers) (3.13)\n",
            "Requirement already satisfied: keras-applications>=1.0.6 in /usr/local/lib/python3.6/dist-packages (from keras>=2.1.0->image-classifiers) (1.0.8)\n",
            "Requirement already satisfied: six>=1.9.0 in /usr/local/lib/python3.6/dist-packages (from keras>=2.1.0->image-classifiers) (1.12.0)\n",
            "Requirement already satisfied: h5py in /usr/local/lib/python3.6/dist-packages (from keras>=2.1.0->image-classifiers) (2.8.0)\n",
            "Requirement already satisfied: scipy>=0.14 in /usr/local/lib/python3.6/dist-packages (from keras>=2.1.0->image-classifiers) (1.3.0)\n",
            "Collecting git+https://github.com/qubvel/classification_models.git\n",
            "  Cloning https://github.com/qubvel/classification_models.git to /tmp/pip-req-build-2gfuaiu_\n",
            "  Running command git clone -q https://github.com/qubvel/classification_models.git /tmp/pip-req-build-2gfuaiu_\n",
            "  Running command git submodule update --init --recursive -q\n",
            "Requirement already satisfied (use --upgrade to upgrade): image-classifiers==0.2.2 from git+https://github.com/qubvel/classification_models.git in /usr/local/lib/python3.6/dist-packages\n",
            "Requirement already satisfied: keras>=2.1.0 in /usr/local/lib/python3.6/dist-packages (from image-classifiers==0.2.2) (2.2.4)\n",
            "Requirement already satisfied: scipy>=0.14 in /usr/local/lib/python3.6/dist-packages (from keras>=2.1.0->image-classifiers==0.2.2) (1.3.0)\n",
            "Requirement already satisfied: six>=1.9.0 in /usr/local/lib/python3.6/dist-packages (from keras>=2.1.0->image-classifiers==0.2.2) (1.12.0)\n",
            "Requirement already satisfied: pyyaml in /usr/local/lib/python3.6/dist-packages (from keras>=2.1.0->image-classifiers==0.2.2) (3.13)\n",
            "Requirement already satisfied: keras-applications>=1.0.6 in /usr/local/lib/python3.6/dist-packages (from keras>=2.1.0->image-classifiers==0.2.2) (1.0.8)\n",
            "Requirement already satisfied: numpy>=1.9.1 in /usr/local/lib/python3.6/dist-packages (from keras>=2.1.0->image-classifiers==0.2.2) (1.16.4)\n",
            "Requirement already satisfied: h5py in /usr/local/lib/python3.6/dist-packages (from keras>=2.1.0->image-classifiers==0.2.2) (2.8.0)\n",
            "Requirement already satisfied: keras-preprocessing>=1.0.5 in /usr/local/lib/python3.6/dist-packages (from keras>=2.1.0->image-classifiers==0.2.2) (1.1.0)\n",
            "Building wheels for collected packages: image-classifiers\n",
            "  Building wheel for image-classifiers (setup.py) ... \u001b[?25l\u001b[?25hdone\n",
            "  Stored in directory: /tmp/pip-ephem-wheel-cache-kg3uazgs/wheels/de/2b/fd/29a6d33edb8c28bc7d94e95ea1d39c9a218ac500a3cfb1b197\n",
            "Successfully built image-classifiers\n"
          ],
          "name": "stdout"
        }
      ]
    },
    {
      "cell_type": "code",
      "metadata": {
        "id": "NenrLbF36YfT",
        "colab_type": "code",
        "colab": {
          "base_uri": "https://localhost:8080/",
          "height": 34
        },
        "outputId": "70f2e24d-2822-4a90-c460-7bf29a7e074c"
      },
      "source": [
        "# Load the Drive helper and mount\n",
        "from google.colab import drive\n",
        "\n",
        "# This will prompt for authorization.\n",
        "drive.mount('/content/drive')"
      ],
      "execution_count": 25,
      "outputs": [
        {
          "output_type": "stream",
          "text": [
            "Drive already mounted at /content/drive; to attempt to forcibly remount, call drive.mount(\"/content/drive\", force_remount=True).\n"
          ],
          "name": "stdout"
        }
      ]
    },
    {
      "cell_type": "code",
      "metadata": {
        "id": "VRBMWNy1CK8z",
        "colab_type": "code",
        "colab": {}
      },
      "source": [
        "from classification_models.resnet import ResNet18, preprocess_input\n",
        "model = ResNet18((224, 224, 3))\n",
        "\n",
        "from classification_models import Classifiers\n",
        "\n",
        "classifier, preprocess_input = Classifiers.get('resnet18')\n",
        "model = classifier((224, 224, 3))\n",
        "\n"
      ],
      "execution_count": 0,
      "outputs": []
    },
    {
      "cell_type": "code",
      "metadata": {
        "id": "zv49BxuwLAPU",
        "colab_type": "code",
        "colab": {}
      },
      "source": [
        "import numpy as np\n",
        "from skimage.io import imread\n",
        "from skimage.transform import resize\n",
        "from keras.applications.imagenet_utils import decode_predictions\n",
        "from keras.layers import Dropout, Flatten, Input, Softmax, GlobalAveragePooling2D, merge, Activation\n",
        "import cv2\n",
        "import sys\n",
        "\n",
        "#rom classification_models.resnet import ResNet18, preprocess_input\n",
        "from keras.datasets import cifar10\n",
        "import numpy as np\n",
        "% matplotlib inline\n",
        "np.random.seed(2017) \n",
        "from keras.utils import np_utils\n",
        "\n",
        "(train_features, train_labels), (test_features, test_labels) = cifar10.load_data() # loading the CIFAR10 into train and test variables\n",
        "num_train, img_channels, img_rows, img_cols =  train_features.shape #Setting number of image channels, coloums, rows\n",
        "num_test, _, _, _ =  test_features.shape\n",
        "num_classes = len(np.unique(train_labels))\n",
        "\n",
        "\n"
      ],
      "execution_count": 0,
      "outputs": []
    },
    {
      "cell_type": "code",
      "metadata": {
        "id": "Tm6OT63c7h62",
        "colab_type": "code",
        "colab": {}
      },
      "source": [
        "(_, _), (_, test_class_labels) = cifar10.load_data()"
      ],
      "execution_count": 0,
      "outputs": []
    },
    {
      "cell_type": "code",
      "metadata": {
        "id": "PhagfYG7eH3-",
        "colab_type": "code",
        "colab": {}
      },
      "source": [
        "train_features = train_features.astype('float32')/255           #Dividing the train and test data by color range of the image\n",
        "test_features = test_features.astype('float32')/255\n",
        "# convert class labels to binary class labels\n",
        "train_labels = np_utils.to_categorical(train_labels, num_classes)\n",
        "test_labels = np_utils.to_categorical(test_labels, num_classes)\n"
      ],
      "execution_count": 0,
      "outputs": []
    },
    {
      "cell_type": "code",
      "metadata": {
        "id": "JgiLrtdO8SZM",
        "colab_type": "code",
        "colab": {}
      },
      "source": [
        "def accuracy(test_x, test_y, model):\n",
        "  \n",
        "  result = model.predict(test_x)\n",
        "  predicted_class = np.argmax(result, axis=1)\n",
        "  true_class = np.argmax(test_y, axis=1)\n",
        "  num_correct = np.sum(predicted_class == true_class) \n",
        "  accuracy = float(num_correct)/result.shape[0]\n",
        "  return (accuracy * 100)"
      ],
      "execution_count": 0,
      "outputs": []
    },
    {
      "cell_type": "code",
      "metadata": {
        "id": "8egul0U2Mhmc",
        "colab_type": "code",
        "colab": {
          "base_uri": "https://localhost:8080/",
          "height": 1000
        },
        "outputId": "a8626535-6440-4e1b-ac09-05593e889915"
      },
      "source": [
        "from keras.layers.convolutional import Convolution2D\n",
        "\n",
        "num_classes=len(np.unique(train_labels))\n",
        "base_model = ResNet18(input_shape=(32,32,3), include_top=False)\n",
        "Layer=Convolution2D(10, 1, 1, name='Layer1')(base_model.output)\n",
        "x = keras.layers.GlobalAveragePooling2D()(Layer)\n",
        "activation= Softmax()(x)\n",
        "output=activation\n",
        "model = keras.models.Model(inputs=[base_model.input], outputs=[output])\n",
        "model.compile(optimizer='adam', loss='categorical_crossentropy', metrics=['accuracy'])\n",
        "model.summary()\n"
      ],
      "execution_count": 31,
      "outputs": [
        {
          "output_type": "stream",
          "text": [
            "/usr/local/lib/python3.6/dist-packages/ipykernel_launcher.py:5: UserWarning: Update your `Conv2D` call to the Keras 2 API: `Conv2D(10, (1, 1), name=\"Layer1\")`\n",
            "  \"\"\"\n"
          ],
          "name": "stderr"
        },
        {
          "output_type": "stream",
          "text": [
            "__________________________________________________________________________________________________\n",
            "Layer (type)                    Output Shape         Param #     Connected to                     \n",
            "==================================================================================================\n",
            "data (InputLayer)               (None, 32, 32, 3)    0                                            \n",
            "__________________________________________________________________________________________________\n",
            "bn_data (BatchNormalization)    (None, 32, 32, 3)    9           data[0][0]                       \n",
            "__________________________________________________________________________________________________\n",
            "zero_padding2d_91 (ZeroPadding2 (None, 38, 38, 3)    0           bn_data[0][0]                    \n",
            "__________________________________________________________________________________________________\n",
            "conv0 (Conv2D)                  (None, 16, 16, 64)   9408        zero_padding2d_91[0][0]          \n",
            "__________________________________________________________________________________________________\n",
            "bn0 (BatchNormalization)        (None, 16, 16, 64)   256         conv0[0][0]                      \n",
            "__________________________________________________________________________________________________\n",
            "relu0 (Activation)              (None, 16, 16, 64)   0           bn0[0][0]                        \n",
            "__________________________________________________________________________________________________\n",
            "zero_padding2d_92 (ZeroPadding2 (None, 18, 18, 64)   0           relu0[0][0]                      \n",
            "__________________________________________________________________________________________________\n",
            "pooling0 (MaxPooling2D)         (None, 8, 8, 64)     0           zero_padding2d_92[0][0]          \n",
            "__________________________________________________________________________________________________\n",
            "stage1_unit1_bn1 (BatchNormaliz (None, 8, 8, 64)     256         pooling0[0][0]                   \n",
            "__________________________________________________________________________________________________\n",
            "stage1_unit1_relu1 (Activation) (None, 8, 8, 64)     0           stage1_unit1_bn1[0][0]           \n",
            "__________________________________________________________________________________________________\n",
            "zero_padding2d_93 (ZeroPadding2 (None, 10, 10, 64)   0           stage1_unit1_relu1[0][0]         \n",
            "__________________________________________________________________________________________________\n",
            "stage1_unit1_conv1 (Conv2D)     (None, 8, 8, 64)     36864       zero_padding2d_93[0][0]          \n",
            "__________________________________________________________________________________________________\n",
            "stage1_unit1_bn2 (BatchNormaliz (None, 8, 8, 64)     256         stage1_unit1_conv1[0][0]         \n",
            "__________________________________________________________________________________________________\n",
            "stage1_unit1_relu2 (Activation) (None, 8, 8, 64)     0           stage1_unit1_bn2[0][0]           \n",
            "__________________________________________________________________________________________________\n",
            "zero_padding2d_94 (ZeroPadding2 (None, 10, 10, 64)   0           stage1_unit1_relu2[0][0]         \n",
            "__________________________________________________________________________________________________\n",
            "stage1_unit1_conv2 (Conv2D)     (None, 8, 8, 64)     36864       zero_padding2d_94[0][0]          \n",
            "__________________________________________________________________________________________________\n",
            "stage1_unit1_sc (Conv2D)        (None, 8, 8, 64)     4096        stage1_unit1_relu1[0][0]         \n",
            "__________________________________________________________________________________________________\n",
            "add_41 (Add)                    (None, 8, 8, 64)     0           stage1_unit1_conv2[0][0]         \n",
            "                                                                 stage1_unit1_sc[0][0]            \n",
            "__________________________________________________________________________________________________\n",
            "stage1_unit2_bn1 (BatchNormaliz (None, 8, 8, 64)     256         add_41[0][0]                     \n",
            "__________________________________________________________________________________________________\n",
            "stage1_unit2_relu1 (Activation) (None, 8, 8, 64)     0           stage1_unit2_bn1[0][0]           \n",
            "__________________________________________________________________________________________________\n",
            "zero_padding2d_95 (ZeroPadding2 (None, 10, 10, 64)   0           stage1_unit2_relu1[0][0]         \n",
            "__________________________________________________________________________________________________\n",
            "stage1_unit2_conv1 (Conv2D)     (None, 8, 8, 64)     36864       zero_padding2d_95[0][0]          \n",
            "__________________________________________________________________________________________________\n",
            "stage1_unit2_bn2 (BatchNormaliz (None, 8, 8, 64)     256         stage1_unit2_conv1[0][0]         \n",
            "__________________________________________________________________________________________________\n",
            "stage1_unit2_relu2 (Activation) (None, 8, 8, 64)     0           stage1_unit2_bn2[0][0]           \n",
            "__________________________________________________________________________________________________\n",
            "zero_padding2d_96 (ZeroPadding2 (None, 10, 10, 64)   0           stage1_unit2_relu2[0][0]         \n",
            "__________________________________________________________________________________________________\n",
            "stage1_unit2_conv2 (Conv2D)     (None, 8, 8, 64)     36864       zero_padding2d_96[0][0]          \n",
            "__________________________________________________________________________________________________\n",
            "add_42 (Add)                    (None, 8, 8, 64)     0           stage1_unit2_conv2[0][0]         \n",
            "                                                                 add_41[0][0]                     \n",
            "__________________________________________________________________________________________________\n",
            "stage2_unit1_bn1 (BatchNormaliz (None, 8, 8, 64)     256         add_42[0][0]                     \n",
            "__________________________________________________________________________________________________\n",
            "stage2_unit1_relu1 (Activation) (None, 8, 8, 64)     0           stage2_unit1_bn1[0][0]           \n",
            "__________________________________________________________________________________________________\n",
            "zero_padding2d_97 (ZeroPadding2 (None, 10, 10, 64)   0           stage2_unit1_relu1[0][0]         \n",
            "__________________________________________________________________________________________________\n",
            "stage2_unit1_conv1 (Conv2D)     (None, 4, 4, 128)    73728       zero_padding2d_97[0][0]          \n",
            "__________________________________________________________________________________________________\n",
            "stage2_unit1_bn2 (BatchNormaliz (None, 4, 4, 128)    512         stage2_unit1_conv1[0][0]         \n",
            "__________________________________________________________________________________________________\n",
            "stage2_unit1_relu2 (Activation) (None, 4, 4, 128)    0           stage2_unit1_bn2[0][0]           \n",
            "__________________________________________________________________________________________________\n",
            "zero_padding2d_98 (ZeroPadding2 (None, 6, 6, 128)    0           stage2_unit1_relu2[0][0]         \n",
            "__________________________________________________________________________________________________\n",
            "stage2_unit1_conv2 (Conv2D)     (None, 4, 4, 128)    147456      zero_padding2d_98[0][0]          \n",
            "__________________________________________________________________________________________________\n",
            "stage2_unit1_sc (Conv2D)        (None, 4, 4, 128)    8192        stage2_unit1_relu1[0][0]         \n",
            "__________________________________________________________________________________________________\n",
            "add_43 (Add)                    (None, 4, 4, 128)    0           stage2_unit1_conv2[0][0]         \n",
            "                                                                 stage2_unit1_sc[0][0]            \n",
            "__________________________________________________________________________________________________\n",
            "stage2_unit2_bn1 (BatchNormaliz (None, 4, 4, 128)    512         add_43[0][0]                     \n",
            "__________________________________________________________________________________________________\n",
            "stage2_unit2_relu1 (Activation) (None, 4, 4, 128)    0           stage2_unit2_bn1[0][0]           \n",
            "__________________________________________________________________________________________________\n",
            "zero_padding2d_99 (ZeroPadding2 (None, 6, 6, 128)    0           stage2_unit2_relu1[0][0]         \n",
            "__________________________________________________________________________________________________\n",
            "stage2_unit2_conv1 (Conv2D)     (None, 4, 4, 128)    147456      zero_padding2d_99[0][0]          \n",
            "__________________________________________________________________________________________________\n",
            "stage2_unit2_bn2 (BatchNormaliz (None, 4, 4, 128)    512         stage2_unit2_conv1[0][0]         \n",
            "__________________________________________________________________________________________________\n",
            "stage2_unit2_relu2 (Activation) (None, 4, 4, 128)    0           stage2_unit2_bn2[0][0]           \n",
            "__________________________________________________________________________________________________\n",
            "zero_padding2d_100 (ZeroPadding (None, 6, 6, 128)    0           stage2_unit2_relu2[0][0]         \n",
            "__________________________________________________________________________________________________\n",
            "stage2_unit2_conv2 (Conv2D)     (None, 4, 4, 128)    147456      zero_padding2d_100[0][0]         \n",
            "__________________________________________________________________________________________________\n",
            "add_44 (Add)                    (None, 4, 4, 128)    0           stage2_unit2_conv2[0][0]         \n",
            "                                                                 add_43[0][0]                     \n",
            "__________________________________________________________________________________________________\n",
            "stage3_unit1_bn1 (BatchNormaliz (None, 4, 4, 128)    512         add_44[0][0]                     \n",
            "__________________________________________________________________________________________________\n",
            "stage3_unit1_relu1 (Activation) (None, 4, 4, 128)    0           stage3_unit1_bn1[0][0]           \n",
            "__________________________________________________________________________________________________\n",
            "zero_padding2d_101 (ZeroPadding (None, 6, 6, 128)    0           stage3_unit1_relu1[0][0]         \n",
            "__________________________________________________________________________________________________\n",
            "stage3_unit1_conv1 (Conv2D)     (None, 2, 2, 256)    294912      zero_padding2d_101[0][0]         \n",
            "__________________________________________________________________________________________________\n",
            "stage3_unit1_bn2 (BatchNormaliz (None, 2, 2, 256)    1024        stage3_unit1_conv1[0][0]         \n",
            "__________________________________________________________________________________________________\n",
            "stage3_unit1_relu2 (Activation) (None, 2, 2, 256)    0           stage3_unit1_bn2[0][0]           \n",
            "__________________________________________________________________________________________________\n",
            "zero_padding2d_102 (ZeroPadding (None, 4, 4, 256)    0           stage3_unit1_relu2[0][0]         \n",
            "__________________________________________________________________________________________________\n",
            "stage3_unit1_conv2 (Conv2D)     (None, 2, 2, 256)    589824      zero_padding2d_102[0][0]         \n",
            "__________________________________________________________________________________________________\n",
            "stage3_unit1_sc (Conv2D)        (None, 2, 2, 256)    32768       stage3_unit1_relu1[0][0]         \n",
            "__________________________________________________________________________________________________\n",
            "add_45 (Add)                    (None, 2, 2, 256)    0           stage3_unit1_conv2[0][0]         \n",
            "                                                                 stage3_unit1_sc[0][0]            \n",
            "__________________________________________________________________________________________________\n",
            "stage3_unit2_bn1 (BatchNormaliz (None, 2, 2, 256)    1024        add_45[0][0]                     \n",
            "__________________________________________________________________________________________________\n",
            "stage3_unit2_relu1 (Activation) (None, 2, 2, 256)    0           stage3_unit2_bn1[0][0]           \n",
            "__________________________________________________________________________________________________\n",
            "zero_padding2d_103 (ZeroPadding (None, 4, 4, 256)    0           stage3_unit2_relu1[0][0]         \n",
            "__________________________________________________________________________________________________\n",
            "stage3_unit2_conv1 (Conv2D)     (None, 2, 2, 256)    589824      zero_padding2d_103[0][0]         \n",
            "__________________________________________________________________________________________________\n",
            "stage3_unit2_bn2 (BatchNormaliz (None, 2, 2, 256)    1024        stage3_unit2_conv1[0][0]         \n",
            "__________________________________________________________________________________________________\n",
            "stage3_unit2_relu2 (Activation) (None, 2, 2, 256)    0           stage3_unit2_bn2[0][0]           \n",
            "__________________________________________________________________________________________________\n",
            "zero_padding2d_104 (ZeroPadding (None, 4, 4, 256)    0           stage3_unit2_relu2[0][0]         \n",
            "__________________________________________________________________________________________________\n",
            "stage3_unit2_conv2 (Conv2D)     (None, 2, 2, 256)    589824      zero_padding2d_104[0][0]         \n",
            "__________________________________________________________________________________________________\n",
            "add_46 (Add)                    (None, 2, 2, 256)    0           stage3_unit2_conv2[0][0]         \n",
            "                                                                 add_45[0][0]                     \n",
            "__________________________________________________________________________________________________\n",
            "stage4_unit1_bn1 (BatchNormaliz (None, 2, 2, 256)    1024        add_46[0][0]                     \n",
            "__________________________________________________________________________________________________\n",
            "stage4_unit1_relu1 (Activation) (None, 2, 2, 256)    0           stage4_unit1_bn1[0][0]           \n",
            "__________________________________________________________________________________________________\n",
            "zero_padding2d_105 (ZeroPadding (None, 4, 4, 256)    0           stage4_unit1_relu1[0][0]         \n",
            "__________________________________________________________________________________________________\n",
            "stage4_unit1_conv1 (Conv2D)     (None, 1, 1, 512)    1179648     zero_padding2d_105[0][0]         \n",
            "__________________________________________________________________________________________________\n",
            "stage4_unit1_bn2 (BatchNormaliz (None, 1, 1, 512)    2048        stage4_unit1_conv1[0][0]         \n",
            "__________________________________________________________________________________________________\n",
            "stage4_unit1_relu2 (Activation) (None, 1, 1, 512)    0           stage4_unit1_bn2[0][0]           \n",
            "__________________________________________________________________________________________________\n",
            "zero_padding2d_106 (ZeroPadding (None, 3, 3, 512)    0           stage4_unit1_relu2[0][0]         \n",
            "__________________________________________________________________________________________________\n",
            "stage4_unit1_conv2 (Conv2D)     (None, 1, 1, 512)    2359296     zero_padding2d_106[0][0]         \n",
            "__________________________________________________________________________________________________\n",
            "stage4_unit1_sc (Conv2D)        (None, 1, 1, 512)    131072      stage4_unit1_relu1[0][0]         \n",
            "__________________________________________________________________________________________________\n",
            "add_47 (Add)                    (None, 1, 1, 512)    0           stage4_unit1_conv2[0][0]         \n",
            "                                                                 stage4_unit1_sc[0][0]            \n",
            "__________________________________________________________________________________________________\n",
            "stage4_unit2_bn1 (BatchNormaliz (None, 1, 1, 512)    2048        add_47[0][0]                     \n",
            "__________________________________________________________________________________________________\n",
            "stage4_unit2_relu1 (Activation) (None, 1, 1, 512)    0           stage4_unit2_bn1[0][0]           \n",
            "__________________________________________________________________________________________________\n",
            "zero_padding2d_107 (ZeroPadding (None, 3, 3, 512)    0           stage4_unit2_relu1[0][0]         \n",
            "__________________________________________________________________________________________________\n",
            "stage4_unit2_conv1 (Conv2D)     (None, 1, 1, 512)    2359296     zero_padding2d_107[0][0]         \n",
            "__________________________________________________________________________________________________\n",
            "stage4_unit2_bn2 (BatchNormaliz (None, 1, 1, 512)    2048        stage4_unit2_conv1[0][0]         \n",
            "__________________________________________________________________________________________________\n",
            "stage4_unit2_relu2 (Activation) (None, 1, 1, 512)    0           stage4_unit2_bn2[0][0]           \n",
            "__________________________________________________________________________________________________\n",
            "zero_padding2d_108 (ZeroPadding (None, 3, 3, 512)    0           stage4_unit2_relu2[0][0]         \n",
            "__________________________________________________________________________________________________\n",
            "stage4_unit2_conv2 (Conv2D)     (None, 1, 1, 512)    2359296     zero_padding2d_108[0][0]         \n",
            "__________________________________________________________________________________________________\n",
            "add_48 (Add)                    (None, 1, 1, 512)    0           stage4_unit2_conv2[0][0]         \n",
            "                                                                 add_47[0][0]                     \n",
            "__________________________________________________________________________________________________\n",
            "bn1 (BatchNormalization)        (None, 1, 1, 512)    2048        add_48[0][0]                     \n",
            "__________________________________________________________________________________________________\n",
            "relu1 (Activation)              (None, 1, 1, 512)    0           bn1[0][0]                        \n",
            "__________________________________________________________________________________________________\n",
            "Layer1 (Conv2D)                 (None, 1, 1, 10)     5130        relu1[0][0]                      \n",
            "__________________________________________________________________________________________________\n",
            "global_average_pooling2d_2 (Glo (None, 10)           0           Layer1[0][0]                     \n",
            "__________________________________________________________________________________________________\n",
            "softmax_2 (Softmax)             (None, 10)           0           global_average_pooling2d_2[0][0] \n",
            "==================================================================================================\n",
            "Total params: 11,192,019\n",
            "Trainable params: 11,184,077\n",
            "Non-trainable params: 7,942\n",
            "__________________________________________________________________________________________________\n"
          ],
          "name": "stdout"
        }
      ]
    },
    {
      "cell_type": "code",
      "metadata": {
        "id": "T8p-b1Xx89hs",
        "colab_type": "code",
        "colab": {}
      },
      "source": [
        "from keras.callbacks import ModelCheckpoint\n",
        "\n",
        "filepath = \"/content/drive/My Drive/EIP Assignment 5.h5\"\n",
        "checkpointer = ModelCheckpoint(filepath, monitor='val_acc', verbose=1, save_best_only=True, mode='max')\n",
        "callbacks=[checkpointer] \n",
        "\n"
      ],
      "execution_count": 0,
      "outputs": []
    },
    {
      "cell_type": "code",
      "metadata": {
        "id": "mRw41I5WnR83",
        "colab_type": "code",
        "colab": {
          "base_uri": "https://localhost:8080/",
          "height": 440
        },
        "outputId": "4cd4dbf0-c2a8-4a93-89e9-de33ce55fdd3"
      },
      "source": [
        "from keras.preprocessing.image import ImageDataGenerator # Imagedatagenerator library is used for data augmentation with no horizontal flips\n",
        "\n",
        "datagen = ImageDataGenerator(zoom_range=0.0, \n",
        "                             horizontal_flip=False)\n",
        "\n",
        "\n",
        "# Train the model\n",
        "model_info = model.fit_generator(datagen.flow(train_features, train_labels, batch_size = 128),\n",
        "                                 samples_per_epoch = train_features.shape[0], nb_epoch = 10, \n",
        "                                 validation_data = (test_features, test_labels), verbose=1)"
      ],
      "execution_count": 35,
      "outputs": [
        {
          "output_type": "stream",
          "text": [
            "/usr/local/lib/python3.6/dist-packages/ipykernel_launcher.py:10: UserWarning: The semantics of the Keras 2 argument `steps_per_epoch` is not the same as the Keras 1 argument `samples_per_epoch`. `steps_per_epoch` is the number of batches to draw from the generator at each epoch. Basically steps_per_epoch = samples_per_epoch/batch_size. Similarly `nb_val_samples`->`validation_steps` and `val_samples`->`steps` arguments have changed. Update your method calls accordingly.\n",
            "  # Remove the CWD from sys.path while we load stuff.\n",
            "/usr/local/lib/python3.6/dist-packages/ipykernel_launcher.py:10: UserWarning: Update your `fit_generator` call to the Keras 2 API: `fit_generator(<keras_pre..., validation_data=(array([[[..., verbose=1, steps_per_epoch=390, epochs=10)`\n",
            "  # Remove the CWD from sys.path while we load stuff.\n"
          ],
          "name": "stderr"
        },
        {
          "output_type": "stream",
          "text": [
            "Epoch 1/10\n",
            "390/390 [==============================] - 59s 152ms/step - loss: 1.4023 - acc: 0.4941 - val_loss: 1.2583 - val_acc: 0.5502\n",
            "Epoch 2/10\n",
            "390/390 [==============================] - 53s 135ms/step - loss: 0.9984 - acc: 0.6478 - val_loss: 1.0311 - val_acc: 0.6442\n",
            "Epoch 3/10\n",
            "390/390 [==============================] - 52s 133ms/step - loss: 0.7947 - acc: 0.7226 - val_loss: 0.9864 - val_acc: 0.6757\n",
            "Epoch 4/10\n",
            "390/390 [==============================] - 52s 132ms/step - loss: 0.6621 - acc: 0.7666 - val_loss: 0.9118 - val_acc: 0.6962\n",
            "Epoch 5/10\n",
            "390/390 [==============================] - 51s 132ms/step - loss: 0.5431 - acc: 0.8110 - val_loss: 0.8860 - val_acc: 0.7141\n",
            "Epoch 6/10\n",
            "390/390 [==============================] - 51s 131ms/step - loss: 0.4416 - acc: 0.8444 - val_loss: 0.9013 - val_acc: 0.7145\n",
            "Epoch 7/10\n",
            "390/390 [==============================] - 51s 132ms/step - loss: 0.3565 - acc: 0.8756 - val_loss: 0.9452 - val_acc: 0.7262\n",
            "Epoch 8/10\n",
            "390/390 [==============================] - 52s 132ms/step - loss: 0.2824 - acc: 0.9002 - val_loss: 0.9483 - val_acc: 0.7342\n",
            "Epoch 9/10\n",
            "390/390 [==============================] - 51s 132ms/step - loss: 0.2199 - acc: 0.9227 - val_loss: 1.0382 - val_acc: 0.7255\n",
            "Epoch 10/10\n",
            "390/390 [==============================] - 52s 133ms/step - loss: 0.1827 - acc: 0.9362 - val_loss: 1.0633 - val_acc: 0.7254\n"
          ],
          "name": "stdout"
        }
      ]
    },
    {
      "cell_type": "code",
      "metadata": {
        "id": "UA2mDS78AGfH",
        "colab_type": "code",
        "colab": {}
      },
      "source": [
        "import tensorflow as tf\n",
        "from keras.models import load_model\n",
        "model = load_model(\"/content/drive/My Drive/EIP Assignment 5.h5\", custom_objects={'tf': tf})"
      ],
      "execution_count": 0,
      "outputs": []
    },
    {
      "cell_type": "code",
      "metadata": {
        "id": "pr9hM20Ft-cR",
        "colab_type": "code",
        "colab": {
          "base_uri": "https://localhost:8080/",
          "height": 487
        },
        "outputId": "b8a18257-217f-4988-afc8-c556f35b765c"
      },
      "source": [
        "!pip install -U -q PyDrive\n",
        "from pydrive.auth import GoogleAuth\n",
        "from pydrive.drive import GoogleDrive \n",
        "from google.colab import auth \n",
        "from oauth2client.client import GoogleCredentials\n",
        "\n",
        "auth.authenticate_user()\n",
        "gauth = GoogleAuth()\n",
        "gauth.credentials = GoogleCredentials.get_application_default()                       \n",
        "drive = GoogleDrive(gauth)\n",
        "\n",
        "model.save('EIP Assignment 5.h5')\n",
        "model_file = drive.CreateFile({'title' : 'EIP Assignment 5.h5'})                       \n",
        "model_file.SetContentFile('EIP Assignment 5.h5')                       \n",
        "model_file.Upload()\n",
        "# download to google drive                       \n",
        "drive.CreateFile({'id': model_file.get('id')})\n",
        "#id '4/iQGfCOkXGR_Q7I1lNiDB8hJ1jdd_9kvjtGaf2qHiK-AoS1tXhcfaWkw'\n",
        "\n",
        "model.save_weights('EIP Assignment 5.hdf5')\n"
      ],
      "execution_count": 39,
      "outputs": [
        {
          "output_type": "stream",
          "text": [
            "W0717 17:37:32.947626 139708964566912 __init__.py:44] file_cache is unavailable when using oauth2client >= 4.0.0 or google-auth\n",
            "Traceback (most recent call last):\n",
            "  File \"/usr/local/lib/python3.6/dist-packages/googleapiclient/discovery_cache/__init__.py\", line 36, in autodetect\n",
            "    from google.appengine.api import memcache\n",
            "ModuleNotFoundError: No module named 'google.appengine'\n",
            "\n",
            "During handling of the above exception, another exception occurred:\n",
            "\n",
            "Traceback (most recent call last):\n",
            "  File \"/usr/local/lib/python3.6/dist-packages/googleapiclient/discovery_cache/file_cache.py\", line 33, in <module>\n",
            "    from oauth2client.contrib.locked_file import LockedFile\n",
            "ModuleNotFoundError: No module named 'oauth2client.contrib.locked_file'\n",
            "\n",
            "During handling of the above exception, another exception occurred:\n",
            "\n",
            "Traceback (most recent call last):\n",
            "  File \"/usr/local/lib/python3.6/dist-packages/googleapiclient/discovery_cache/file_cache.py\", line 37, in <module>\n",
            "    from oauth2client.locked_file import LockedFile\n",
            "ModuleNotFoundError: No module named 'oauth2client.locked_file'\n",
            "\n",
            "During handling of the above exception, another exception occurred:\n",
            "\n",
            "Traceback (most recent call last):\n",
            "  File \"/usr/local/lib/python3.6/dist-packages/googleapiclient/discovery_cache/__init__.py\", line 41, in autodetect\n",
            "    from . import file_cache\n",
            "  File \"/usr/local/lib/python3.6/dist-packages/googleapiclient/discovery_cache/file_cache.py\", line 41, in <module>\n",
            "    'file_cache is unavailable when using oauth2client >= 4.0.0 or google-auth')\n",
            "ImportError: file_cache is unavailable when using oauth2client >= 4.0.0 or google-auth\n"
          ],
          "name": "stderr"
        }
      ]
    },
    {
      "cell_type": "code",
      "metadata": {
        "id": "TTdmSnDYuvHw",
        "colab_type": "code",
        "colab": {}
      },
      "source": [
        "preds = model.predict(test_features)\n",
        "preds_index = np.argmax(preds,axis=1)\n",
        "preds_index = preds_index.tolist()\n",
        "# to convert 2-d array to list \n",
        "test_class_labels = test_class_labels.ravel()\n",
        "# index\n",
        "correct_index, misclassified_index = [],[]\n",
        "for i in range(len(test_class_labels)):\n",
        "  if preds_index[i] == test_class_labels[i]:\n",
        "    correct_index.append(i)\n",
        "  else:\n",
        "    misclassified_index.append(i)\n",
        "\n",
        "\n",
        "\n"
      ],
      "execution_count": 0,
      "outputs": []
    },
    {
      "cell_type": "code",
      "metadata": {
        "id": "fr1faBz3EU4G",
        "colab_type": "code",
        "colab": {
          "base_uri": "https://localhost:8080/",
          "height": 34
        },
        "outputId": "5d154253-f4da-40c8-95c3-ccc8509ebdf9"
      },
      "source": [
        "len(correct_index), len(misclassified_index)\n"
      ],
      "execution_count": 43,
      "outputs": [
        {
          "output_type": "execute_result",
          "data": {
            "text/plain": [
              "(5694, 4306)"
            ]
          },
          "metadata": {
            "tags": []
          },
          "execution_count": 43
        }
      ]
    },
    {
      "cell_type": "code",
      "metadata": {
        "id": "0HdR6uzmFCnP",
        "colab_type": "code",
        "colab": {
          "base_uri": "https://localhost:8080/",
          "height": 202
        },
        "outputId": "ef2331f5-5e23-40c6-c8b4-090aa57bc697"
      },
      "source": [
        "import pandas as pd\n",
        "pd.Series(preds_index).value_counts().sort_index()\n",
        "\n"
      ],
      "execution_count": 45,
      "outputs": [
        {
          "output_type": "execute_result",
          "data": {
            "text/plain": [
              "0     826\n",
              "1    1025\n",
              "2     890\n",
              "3    1381\n",
              "4    1013\n",
              "5    1195\n",
              "6     631\n",
              "7     682\n",
              "8    1692\n",
              "9     665\n",
              "dtype: int64"
            ]
          },
          "metadata": {
            "tags": []
          },
          "execution_count": 45
        }
      ]
    },
    {
      "cell_type": "code",
      "metadata": {
        "id": "Bv0SZ6dlFW1A",
        "colab_type": "code",
        "colab": {}
      },
      "source": [
        "from keras.preprocessing import image\n",
        "import keras.backend as K\n",
        "import cv2\n",
        "import sys\n",
        "\n",
        "class_names = ['airplane','automobile','bird','cat','deer',\n",
        "               'dog','frog','horse','ship','truck']\n"
      ],
      "execution_count": 0,
      "outputs": []
    },
    {
      "cell_type": "code",
      "metadata": {
        "id": "zLoIHzKNw0YX",
        "colab_type": "code",
        "colab": {
          "base_uri": "https://localhost:8080/",
          "height": 266
        },
        "outputId": "c909b2a3-2ed8-49bb-eed7-9d28ed243343"
      },
      "source": [
        "import matplotlib.gridspec as gridspec\n",
        "fig = plt.figure(figsize=(30, 30))\n",
        "for index, value in enumerate(np.random.choice(misclassified_index, size = 50)):\n",
        "  img = test_features[value]\n",
        "  x = image.img_to_array(img)\n",
        "  x = np.expand_dims(x, axis=0)\n",
        "  preds = model.predict(x)\n",
        "  class_idx = np.argmax(preds[0])\n",
        "  \n",
        "  class_output = model.output[:, class_idx]\n",
        "  last_conv_layer = model.get_layer(\"stage2_unit1_conv1\")\n",
        "\n",
        "  grads = K.gradients(class_output, last_conv_layer.output)[0]\n",
        "  pooled_grads = K.mean(grads, axis=(0, 1, 2))\n",
        "  iterate = K.function([model.input], [pooled_grads, last_conv_layer.output[0]])\n",
        "  pooled_grads_value, conv_layer_output_value = iterate([x])\n",
        "  for k in range(128):\n",
        "    conv_layer_output_value[:, :, k] *= pooled_grads_value[k]\n",
        "\n",
        "  heatmap = np.mean(conv_layer_output_value, axis=-1)\n",
        "  heatmap = np.maximum(heatmap, 0)\n",
        "  heatmap /= np.max(heatmap)\n",
        "\n",
        "  heatmap = cv2.resize(heatmap, (img.shape[1], img.shape[0]))\n",
        "  heatmap = np.uint8(255 * heatmap)\n",
        "  heatmap = cv2.applyColorMap(heatmap, cv2.COLORMAP_JET)\n",
        "  superimposed_img = cv2.addWeighted(img, 0.6, heatmap, 0.4, 0)\n",
        "  \n",
        "  imgs=[img, superimposed_img]\n",
        "  outer = gridspec.GridSpec(10, 5, wspace=0.0, hspace=0.15)\n",
        "  inner = gridspec.GridSpecFromSubplotSpec(2, 1,\n",
        "                  subplot_spec=outer[index], wspace=0.0, hspace=0.30)\n",
        "  titles=['Actual:'+class_names[np.argmax(test_labels[value])], 'Prediction:'+class_names[class_idx]]\n",
        "  for j in range(2):\n",
        "      ax = plt.Subplot(fig, inner[j])\n",
        "      ax.imshow(imgs[j])\n",
        "      ax.set_xticks([])\n",
        "      ax.set_yticks([])\n",
        "      ax.set_title(titles[j])\n",
        "      fig.add_subplot(ax)\n",
        "  \n",
        "fig.show()"
      ],
      "execution_count": 51,
      "outputs": [
        {
          "output_type": "error",
          "ename": "error",
          "evalue": "ignored",
          "traceback": [
            "\u001b[0;31m---------------------------------------------------------------------------\u001b[0m",
            "\u001b[0;31merror\u001b[0m                                     Traceback (most recent call last)",
            "\u001b[0;32m<ipython-input-51-30c18c5891c9>\u001b[0m in \u001b[0;36m<module>\u001b[0;34m()\u001b[0m\n\u001b[1;32m     25\u001b[0m   \u001b[0mheatmap\u001b[0m \u001b[0;34m=\u001b[0m \u001b[0mnp\u001b[0m\u001b[0;34m.\u001b[0m\u001b[0muint8\u001b[0m\u001b[0;34m(\u001b[0m\u001b[0;36m255\u001b[0m \u001b[0;34m*\u001b[0m \u001b[0mheatmap\u001b[0m\u001b[0;34m)\u001b[0m\u001b[0;34m\u001b[0m\u001b[0;34m\u001b[0m\u001b[0m\n\u001b[1;32m     26\u001b[0m   \u001b[0mheatmap\u001b[0m \u001b[0;34m=\u001b[0m \u001b[0mcv2\u001b[0m\u001b[0;34m.\u001b[0m\u001b[0mapplyColorMap\u001b[0m\u001b[0;34m(\u001b[0m\u001b[0mheatmap\u001b[0m\u001b[0;34m,\u001b[0m \u001b[0mcv2\u001b[0m\u001b[0;34m.\u001b[0m\u001b[0mCOLORMAP_JET\u001b[0m\u001b[0;34m)\u001b[0m\u001b[0;34m\u001b[0m\u001b[0;34m\u001b[0m\u001b[0m\n\u001b[0;32m---> 27\u001b[0;31m   \u001b[0msuperimposed_img\u001b[0m \u001b[0;34m=\u001b[0m \u001b[0mcv2\u001b[0m\u001b[0;34m.\u001b[0m\u001b[0maddWeighted\u001b[0m\u001b[0;34m(\u001b[0m\u001b[0mimg\u001b[0m\u001b[0;34m,\u001b[0m \u001b[0;36m0.6\u001b[0m\u001b[0;34m,\u001b[0m \u001b[0mheatmap\u001b[0m\u001b[0;34m,\u001b[0m \u001b[0;36m0.4\u001b[0m\u001b[0;34m,\u001b[0m \u001b[0;36m0\u001b[0m\u001b[0;34m)\u001b[0m\u001b[0;34m\u001b[0m\u001b[0;34m\u001b[0m\u001b[0m\n\u001b[0m\u001b[1;32m     28\u001b[0m \u001b[0;34m\u001b[0m\u001b[0m\n\u001b[1;32m     29\u001b[0m   \u001b[0mimgs\u001b[0m\u001b[0;34m=\u001b[0m\u001b[0;34m[\u001b[0m\u001b[0mimg\u001b[0m\u001b[0;34m,\u001b[0m \u001b[0msuperimposed_img\u001b[0m\u001b[0;34m]\u001b[0m\u001b[0;34m\u001b[0m\u001b[0;34m\u001b[0m\u001b[0m\n",
            "\u001b[0;31merror\u001b[0m: OpenCV(3.4.3) /io/opencv/modules/core/src/arithm.cpp:683: error: (-5:Bad argument) When the input arrays in add/subtract/multiply/divide functions have different types, the output array type must be explicitly specified in function 'arithm_op'\n"
          ]
        },
        {
          "output_type": "display_data",
          "data": {
            "text/plain": [
              "<Figure size 2160x2160 with 0 Axes>"
            ]
          },
          "metadata": {
            "tags": []
          }
        }
      ]
    }
  ]
}